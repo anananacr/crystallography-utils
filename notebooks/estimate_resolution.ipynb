{
 "cells": [
  {
   "cell_type": "markdown",
   "id": "849e8161-9409-4614-ac94-748541dfb2c3",
   "metadata": {},
   "source": [
    "## Estimate experiment resolution\n",
    "\n",
    "Before or after the experiment, we should have an idea of the diffraction resolution achieved for the determined experiment conditions (detector distance, detector center, wavelength, etc).\n",
    "\n",
    "Here you can calculate the estimated diffraction resolution, using the experiment geometry used."
   ]
  },
  {
   "cell_type": "code",
   "execution_count": 1,
   "id": "1e112776-b370-4433-b611-ba09153d0712",
   "metadata": {},
   "outputs": [],
   "source": [
    "import numpy as np\n",
    "from scipy import constants"
   ]
  },
  {
   "cell_type": "code",
   "execution_count": 2,
   "id": "d9d3ce02-160f-47d8-baef-027b3868a748",
   "metadata": {},
   "outputs": [],
   "source": [
    "resolution_ring_in_pixel = 350 ## here I am defining the shorter distance in pixels from the center of the detector to the edge"
   ]
  },
  {
   "cell_type": "code",
   "execution_count": 3,
   "id": "ed4f176c-6366-44f3-9bed-a30fd685b945",
   "metadata": {},
   "outputs": [],
   "source": [
    "pixel_size_in_mm = 0.075 ## here I define the pixel size in mm, for JUGFRAU the pixel size is 75um"
   ]
  },
  {
   "cell_type": "code",
   "execution_count": 4,
   "id": "24066b33-6717-47f1-aed5-f50da4e46ec8",
   "metadata": {},
   "outputs": [],
   "source": [
    "beam_energy = 15000 ## beam energy in electron volt eV"
   ]
  },
  {
   "cell_type": "code",
   "execution_count": 5,
   "id": "39cf28c0-eb66-4ade-93d5-3cf6064c341b",
   "metadata": {},
   "outputs": [],
   "source": [
    "lambda_in_m = constants.h * constants.c / (beam_energy * constants.e) ## wavelength in meters"
   ]
  },
  {
   "cell_type": "code",
   "execution_count": 6,
   "id": "88e92e39-58db-461f-b7bf-338a4c60a0bd",
   "metadata": {},
   "outputs": [
    {
     "data": {
      "text/plain": [
       "8.265613228880018e-11"
      ]
     },
     "execution_count": 6,
     "metadata": {},
     "output_type": "execute_result"
    }
   ],
   "source": [
    "lambda_in_m"
   ]
  },
  {
   "cell_type": "code",
   "execution_count": 7,
   "id": "12700d14-34a3-4e1e-8fc5-035f56bb07aa",
   "metadata": {},
   "outputs": [],
   "source": [
    "detector_distance_in_mm = 81.8"
   ]
  },
  {
   "cell_type": "code",
   "execution_count": 8,
   "id": "c2109b9c-9705-4aba-a1c1-9d51f94ea5dd",
   "metadata": {},
   "outputs": [],
   "source": [
    "resolution_rings_in_a = (1e10*lambda_in_m)/(2*np.sin(0.5*np.arctan2((resolution_ring_in_pixel * pixel_size_in_mm),detector_distance_in_mm)))"
   ]
  },
  {
   "cell_type": "code",
   "execution_count": 9,
   "id": "53ea0dc3-7e45-4d50-a901-6de05a905349",
   "metadata": {},
   "outputs": [
    {
     "data": {
      "text/plain": [
       "2.672557723329817"
      ]
     },
     "execution_count": 9,
     "metadata": {},
     "output_type": "execute_result"
    }
   ],
   "source": [
    "resolution_rings_in_a"
   ]
  },
  {
   "cell_type": "code",
   "execution_count": null,
   "id": "72e60584-491a-4757-90ca-738758bbd858",
   "metadata": {},
   "outputs": [],
   "source": []
  }
 ],
 "metadata": {
  "kernelspec": {
   "display_name": "Python 3 (ipykernel)",
   "language": "python",
   "name": "python3"
  },
  "language_info": {
   "codemirror_mode": {
    "name": "ipython",
    "version": 3
   },
   "file_extension": ".py",
   "mimetype": "text/x-python",
   "name": "python",
   "nbconvert_exporter": "python",
   "pygments_lexer": "ipython3",
   "version": "3.10.5"
  }
 },
 "nbformat": 4,
 "nbformat_minor": 5
}
