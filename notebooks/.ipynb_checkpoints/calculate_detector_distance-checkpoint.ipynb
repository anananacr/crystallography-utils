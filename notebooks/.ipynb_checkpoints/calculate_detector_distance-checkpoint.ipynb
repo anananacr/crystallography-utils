{
 "cells": [
  {
   "cell_type": "markdown",
   "id": "1720d779-7f70-4859-ad3b-2ed51fb41f2d",
   "metadata": {},
   "source": [
    "## Calculate the detector distance\n",
    "\n",
    "Prior to the experiment, we should have an idea of the detector distance from the sample, also called camera length.\n",
    "\n",
    "Higher distances implies bigger inter bragg separation, with a trade of losing higher resolution signal. \n",
    "\n",
    "Here you can calculate the detector distance based on the expected diffraction resolution for your crystals, in order to achieve that resolution at the edge of the detector "
   ]
  },
  {
   "cell_type": "code",
   "execution_count": 2,
   "id": "1e112776-b370-4433-b611-ba09153d0712",
   "metadata": {},
   "outputs": [],
   "source": [
    "import numpy as np\n",
    "from scipy import constants"
   ]
  },
  {
   "cell_type": "code",
   "execution_count": 3,
   "id": "d9d3ce02-160f-47d8-baef-027b3868a748",
   "metadata": {},
   "outputs": [],
   "source": [
    "resolution_ring_in_pixel = 516 ## here I am defining the shorter distance in pixels from the center of the detector to the edge"
   ]
  },
  {
   "cell_type": "code",
   "execution_count": 4,
   "id": "ed4f176c-6366-44f3-9bed-a30fd685b945",
   "metadata": {},
   "outputs": [],
   "source": [
    "pixel_size_in_mm = 0.075 ## here I define the pixel size in mm, for JUGFRAU the pixel size is 75um"
   ]
  },
  {
   "cell_type": "code",
   "execution_count": 5,
   "id": "24066b33-6717-47f1-aed5-f50da4e46ec8",
   "metadata": {},
   "outputs": [],
   "source": [
    "beam_energy = 15000 ## beam energy in electron volt eV"
   ]
  },
  {
   "cell_type": "code",
   "execution_count": 6,
   "id": "39cf28c0-eb66-4ade-93d5-3cf6064c341b",
   "metadata": {},
   "outputs": [],
   "source": [
    "lambda_in_m = constants.h * constants.c / (beam_energy * constants.e) ## wavelength in meters without relativistic corrections"
   ]
  },
  {
   "cell_type": "code",
   "execution_count": 7,
   "id": "88e92e39-58db-461f-b7bf-338a4c60a0bd",
   "metadata": {},
   "outputs": [
    {
     "data": {
      "text/plain": [
       "8.265613228880018e-11"
      ]
     },
     "execution_count": 7,
     "metadata": {},
     "output_type": "execute_result"
    }
   ],
   "source": [
    "lambda_in_m"
   ]
  },
  {
   "cell_type": "code",
   "execution_count": 8,
   "id": "c2109b9c-9705-4aba-a1c1-9d51f94ea5dd",
   "metadata": {},
   "outputs": [],
   "source": [
    "resolution_rings_in_a = 1.76 # expected highest resolution at the edge of the detector in angstroms "
   ]
  },
  {
   "cell_type": "code",
   "execution_count": 9,
   "id": "1427b961-1b90-4b10-804e-14eeb0bef333",
   "metadata": {},
   "outputs": [],
   "source": [
    "detector_distance_in_mm = (resolution_ring_in_pixel * pixel_size_in_mm / np.tan(2.0 * np.arcsin(lambda_in_m / (2.0 * resolution_rings_in_a * 1e-10)))) "
   ]
  },
  {
   "cell_type": "code",
   "execution_count": 10,
   "id": "67a37737-da26-48b2-86b0-41dce982a6cc",
   "metadata": {},
   "outputs": [
    {
     "data": {
      "text/plain": [
       "75.42552771420675"
      ]
     },
     "execution_count": 10,
     "metadata": {},
     "output_type": "execute_result"
    }
   ],
   "source": [
    "detector_distance_in_mm # distance from the sample to the detector in mm"
   ]
  },
  {
   "cell_type": "markdown",
   "id": "00e1bdbb-561c-4f95-a1b5-704155bb40b0",
   "metadata": {},
   "source": [
    "Account for eventual offsets in the distance, for example, the silicon sensor length of Jungfrau (PSI). X-rays are, most likely, absorbed in the back of the silicon sensor so the face of the panel should be placed around 0.5 mm shorter than the calculated detector distance."
   ]
  },
  {
   "cell_type": "markdown",
   "id": "2906b735-3b1b-415f-9778-eaed3c64e23c",
   "metadata": {},
   "source": [
    "**Rough estimation of the distance from the sample to the face of the detector in milimiters (mm)**"
   ]
  },
  {
   "cell_type": "code",
   "execution_count": 11,
   "id": "c11323a2-891e-4219-9071-539109bc36c5",
   "metadata": {},
   "outputs": [],
   "source": [
    "distance_from_sample_to_the_face_of_the_detector = detector_distance_in_mm - 0.5"
   ]
  },
  {
   "cell_type": "code",
   "execution_count": 12,
   "id": "35e7bb91-55f8-4e6d-8227-f6682d808c3d",
   "metadata": {},
   "outputs": [
    {
     "data": {
      "text/plain": [
       "74.92552771420675"
      ]
     },
     "execution_count": 12,
     "metadata": {},
     "output_type": "execute_result"
    }
   ],
   "source": [
    "distance_from_sample_to_the_face_of_the_detector"
   ]
  }
 ],
 "metadata": {
  "kernelspec": {
   "display_name": "Python 3 (ipykernel)",
   "language": "python",
   "name": "python3"
  },
  "language_info": {
   "codemirror_mode": {
    "name": "ipython",
    "version": 3
   },
   "file_extension": ".py",
   "mimetype": "text/x-python",
   "name": "python",
   "nbconvert_exporter": "python",
   "pygments_lexer": "ipython3",
   "version": "3.10.5"
  }
 },
 "nbformat": 4,
 "nbformat_minor": 5
}
