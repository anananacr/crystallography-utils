{
 "cells": [
  {
   "cell_type": "markdown",
   "id": "7e736bea-f650-420d-99f1-9da708de6b77",
   "metadata": {},
   "source": [
    "## Estimate distance between Bragg peaks\n",
    "\n",
    "Prior to the experiment, we should have an idea of the separation between Bragg peaks in pixel to avoid overlap reflections for the detector distance chosen.\n",
    "\n",
    "Higher distances implies bigger inter bragg separation, with a trade of losing higher resolution signal. \n",
    "\n",
    "Here you can calculate the inter Bragg distance in pixels based on the expected unit cell dimensions for your crystals."
   ]
  },
  {
   "cell_type": "code",
   "execution_count": 15,
   "id": "f9db2bed",
   "metadata": {
    "scrolled": true
   },
   "outputs": [],
   "source": [
    "import numpy as np\n",
    "from scipy import constants"
   ]
  },
  {
   "cell_type": "markdown",
   "id": "76eab296-dc50-4d6e-a1b6-73d05398a1b0",
   "metadata": {},
   "source": [
    "**Here, I am using the definition of reciprocal space units as $nm^{-1}$**"
   ]
  },
  {
   "cell_type": "code",
   "execution_count": 16,
   "id": "250f7e87-a5b1-4487-aa72-14479d3336ca",
   "metadata": {},
   "outputs": [],
   "source": [
    "biggest_axis_in_angstroms = 100\n",
    "detector_distance_in_m = 0.0816\n",
    "pixel_size_in_m=75e-6"
   ]
  },
  {
   "cell_type": "code",
   "execution_count": 17,
   "id": "69200f08-9d90-4443-8030-f827da43e7f1",
   "metadata": {},
   "outputs": [],
   "source": [
    "photon_energy_in_eV=15000\n",
    "_lambda = (constants.h*constants.c)/(photon_energy_in_eV*constants.e)"
   ]
  },
  {
   "cell_type": "code",
   "execution_count": 18,
   "id": "469d16fd-c7a5-48d1-8a18-d7a815fe9a18",
   "metadata": {},
   "outputs": [
    {
     "data": {
      "text/plain": [
       "8.265613228880018e-11"
      ]
     },
     "execution_count": 18,
     "metadata": {},
     "output_type": "execute_result"
    }
   ],
   "source": [
    "_lambda"
   ]
  },
  {
   "cell_type": "code",
   "execution_count": 19,
   "id": "1e24c6b4-2277-4fdc-9ec2-12975467bf42",
   "metadata": {},
   "outputs": [],
   "source": [
    "k_in_reciprocal_space_units = 1e-9/_lambda"
   ]
  },
  {
   "cell_type": "code",
   "execution_count": 20,
   "id": "a6820981-b474-4d9c-80a5-392411b2c7f7",
   "metadata": {},
   "outputs": [
    {
     "data": {
      "text/plain": [
       "12.098315906023817"
      ]
     },
     "execution_count": 20,
     "metadata": {},
     "output_type": "execute_result"
    }
   ],
   "source": [
    "k_in_reciprocal_space_units"
   ]
  },
  {
   "cell_type": "code",
   "execution_count": 21,
   "id": "fb111e6d-2dc8-4f32-9686-bf9c801f0030",
   "metadata": {},
   "outputs": [],
   "source": [
    "pixel_size_in_reciprocal_space_units = (k_in_reciprocal_space_units*pixel_size_in_m)/detector_distance_in_m"
   ]
  },
  {
   "cell_type": "code",
   "execution_count": 22,
   "id": "2748cce3-6465-451d-8b7a-bcb3bb1fd87d",
   "metadata": {},
   "outputs": [
    {
     "data": {
      "text/plain": [
       "0.011119775648918948"
      ]
     },
     "execution_count": 22,
     "metadata": {},
     "output_type": "execute_result"
    }
   ],
   "source": [
    "pixel_size_in_reciprocal_space_units"
   ]
  },
  {
   "cell_type": "code",
   "execution_count": 23,
   "id": "7b4b4d06-73dd-4df5-bc72-ac49f1a386db",
   "metadata": {},
   "outputs": [],
   "source": [
    "biggest_axis_in_reciprocal_space_units= 10/(biggest_axis_in_angstroms)"
   ]
  },
  {
   "cell_type": "code",
   "execution_count": 24,
   "id": "64949950-3fad-4209-b9b1-295169729a08",
   "metadata": {},
   "outputs": [
    {
     "data": {
      "text/plain": [
       "0.1"
      ]
     },
     "execution_count": 24,
     "metadata": {},
     "output_type": "execute_result"
    }
   ],
   "source": [
    "biggest_axis_in_reciprocal_space_units"
   ]
  },
  {
   "cell_type": "code",
   "execution_count": 25,
   "id": "f301f225-17d5-4d71-b623-0856215093dd",
   "metadata": {},
   "outputs": [],
   "source": [
    "number_of_pixels_between_bragg_peaks = biggest_axis_in_reciprocal_space_units/pixel_size_in_reciprocal_space_units"
   ]
  },
  {
   "cell_type": "code",
   "execution_count": 26,
   "id": "8bd49070-92be-423e-b557-cf7a7dd04ea6",
   "metadata": {},
   "outputs": [
    {
     "data": {
      "text/plain": [
       "8.992987193021461"
      ]
     },
     "execution_count": 26,
     "metadata": {},
     "output_type": "execute_result"
    }
   ],
   "source": [
    "number_of_pixels_between_bragg_peaks"
   ]
  }
 ],
 "metadata": {
  "kernelspec": {
   "display_name": "Python 3 (ipykernel)",
   "language": "python",
   "name": "python3"
  },
  "language_info": {
   "codemirror_mode": {
    "name": "ipython",
    "version": 3
   },
   "file_extension": ".py",
   "mimetype": "text/x-python",
   "name": "python",
   "nbconvert_exporter": "python",
   "pygments_lexer": "ipython3",
   "version": "3.10.5"
  }
 },
 "nbformat": 4,
 "nbformat_minor": 5
}
